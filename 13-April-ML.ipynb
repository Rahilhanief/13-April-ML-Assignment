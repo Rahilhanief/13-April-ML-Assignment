{
 "cells": [
  {
   "cell_type": "code",
   "execution_count": 1,
   "id": "8f42e722-b392-4149-ba06-3ac702d73192",
   "metadata": {},
   "outputs": [
    {
     "data": {
      "text/plain": [
       "'\\nA random forest is a meta estimator that fits a number of classifying decision trees on various sub-samples \\nof the dataset and uses averaging to improve the predictive accuracy and control over-fitting.\\n'"
      ]
     },
     "execution_count": 1,
     "metadata": {},
     "output_type": "execute_result"
    }
   ],
   "source": [
    "## Q No. 1 :\n",
    "\"\"\"\n",
    "A random forest is a meta estimator that fits a number of classifying decision trees on various sub-samples \n",
    "of the dataset and uses averaging to improve the predictive accuracy and control over-fitting.\n",
    "\"\"\""
   ]
  },
  {
   "cell_type": "code",
   "execution_count": 2,
   "id": "7a9e0d9c-015e-4b2d-89c5-4e7f26558c2a",
   "metadata": {},
   "outputs": [
    {
     "data": {
      "text/plain": [
       "'\\nRandom forests deals with the problem of overfitting by creating multiple trees, with each tree trained slightly\\ndifferently so it overfits differently. Random forests is a classifier that combines a large number of decision trees. \\nThe decisions of each tree are then combined to make the final classification.\\n'"
      ]
     },
     "execution_count": 2,
     "metadata": {},
     "output_type": "execute_result"
    }
   ],
   "source": [
    "## Q No. 2 :\n",
    "\"\"\"\n",
    "Random forests deals with the problem of overfitting by creating multiple trees, with each tree trained slightly\n",
    "differently so it overfits differently. Random forests is a classifier that combines a large number of decision trees. \n",
    "The decisions of each tree are then combined to make the final classification.\n",
    "\"\"\""
   ]
  },
  {
   "cell_type": "code",
   "execution_count": 4,
   "id": "aa15ec8e-34c4-4025-ac12-df22b4303cf5",
   "metadata": {},
   "outputs": [
    {
     "data": {
      "text/plain": [
       "'\\nThe random forest is a classification algorithm consisting of many decisions trees. \\nIt uses bagging and feature randomness when building each individual tree to try to create an \\nuncorrelated forest of trees whose prediction by committee is more accurate than that of any individual tree.\\n'"
      ]
     },
     "execution_count": 4,
     "metadata": {},
     "output_type": "execute_result"
    }
   ],
   "source": [
    "## Q No. 3 :\n",
    "\"\"\"\n",
    "The random forest is a classification algorithm consisting of many decisions trees. \n",
    "It uses bagging and feature randomness when building each individual tree to try to create an \n",
    "uncorrelated forest of trees whose prediction by committee is more accurate than that of any individual tree.\n",
    "\"\"\""
   ]
  },
  {
   "cell_type": "code",
   "execution_count": 5,
   "id": "11a9bbb0-4aec-473f-95f2-74dcce1ecbdd",
   "metadata": {},
   "outputs": [
    {
     "data": {
      "text/plain": [
       "'\\nIn random forest, the hyperparameters are the number of trees, number of features and the type of trees (such as GBM or M5).\\nThe number of features is important and should be tuned.\\nIn this case, random forest is useful because it automatically tunes the number of features.\\n'"
      ]
     },
     "execution_count": 5,
     "metadata": {},
     "output_type": "execute_result"
    }
   ],
   "source": [
    "## Q No. 4 :\n",
    "\"\"\"\n",
    "In random forest, the hyperparameters are the number of trees, number of features and the type of trees (such as GBM or M5).\n",
    "The number of features is important and should be tuned.\n",
    "In this case, random forest is useful because it automatically tunes the number of features.\n",
    "\"\"\""
   ]
  },
  {
   "cell_type": "code",
   "execution_count": 6,
   "id": "123e1a5f-0a38-47ee-b192-04878db52b5c",
   "metadata": {},
   "outputs": [
    {
     "data": {
      "text/plain": [
       "'\\nA decision tree combines some decisions, whereas a random forest combines several decision trees. \\nThus, it is a long process, yet slow. Whereas, a decision tree is fast and operates easily on large data sets,\\nespecially the linear one.The random forest model needs rigorous training.\\n'"
      ]
     },
     "execution_count": 6,
     "metadata": {},
     "output_type": "execute_result"
    }
   ],
   "source": [
    "## Q No. 5 :\n",
    "\"\"\"\n",
    "A decision tree combines some decisions, whereas a random forest combines several decision trees. \n",
    "Thus, it is a long process, yet slow. Whereas, a decision tree is fast and operates easily on large data sets,\n",
    "especially the linear one.The random forest model needs rigorous training.\n",
    "\"\"\""
   ]
  },
  {
   "cell_type": "code",
   "execution_count": 7,
   "id": "2bad19d8-8db9-4655-b4da-5238abf1bd1c",
   "metadata": {},
   "outputs": [
    {
     "data": {
      "text/plain": [
       "'\\nAdvantages and Disadvantages of Random Forest\\nIt reduces overfitting in decision trees and helps to improve the accuracy.\\nIt is flexible to both classification and regression problems.\\nIt works well with both categorical and continuous values.\\nIt automates missing values present in the data.\\n'"
      ]
     },
     "execution_count": 7,
     "metadata": {},
     "output_type": "execute_result"
    }
   ],
   "source": [
    "## Q No. 6 :\n",
    "\"\"\"\n",
    "Advantages and Disadvantages of Random Forest\n",
    "It reduces overfitting in decision trees and helps to improve the accuracy.\n",
    "It is flexible to both classification and regression problems.\n",
    "It works well with both categorical and continuous values.\n",
    "It automates missing values present in the data.\n",
    "\"\"\""
   ]
  },
  {
   "cell_type": "code",
   "execution_count": 8,
   "id": "1770dffb-ba90-4347-9ea8-07177c62c41d",
   "metadata": {},
   "outputs": [
    {
     "data": {
      "text/plain": [
       "\"\\nRandom forest operates by constructing a multitude of decision trees at training time and outputting the class \\nthat's the mode of the classes (classification) or mean prediction (regression) of the individual trees.\\n\""
      ]
     },
     "execution_count": 8,
     "metadata": {},
     "output_type": "execute_result"
    }
   ],
   "source": [
    "## Q No. 7 :\n",
    "\"\"\"\n",
    "Random forest operates by constructing a multitude of decision trees at training time and outputting the class \n",
    "that's the mode of the classes (classification) or mean prediction (regression) of the individual trees.\n",
    "\"\"\""
   ]
  },
  {
   "cell_type": "code",
   "execution_count": 10,
   "id": "fb419425-e70b-4d44-9df4-b1f8dcef9eb8",
   "metadata": {},
   "outputs": [
    {
     "data": {
      "text/plain": [
       "'\\nSince random forest can handle both regression and classification tasks with a high degree of accuracy,\\nit is a popular method among data scientists.\\n'"
      ]
     },
     "execution_count": 10,
     "metadata": {},
     "output_type": "execute_result"
    }
   ],
   "source": [
    "## Q No. 8 :\n",
    "\"\"\"\n",
    "Since random forest can handle both regression and classification tasks with a high degree of accuracy,\n",
    "it is a popular method among data scientists.\n",
    "\"\"\""
   ]
  }
 ],
 "metadata": {
  "kernelspec": {
   "display_name": "Python 3 (ipykernel)",
   "language": "python",
   "name": "python3"
  },
  "language_info": {
   "codemirror_mode": {
    "name": "ipython",
    "version": 3
   },
   "file_extension": ".py",
   "mimetype": "text/x-python",
   "name": "python",
   "nbconvert_exporter": "python",
   "pygments_lexer": "ipython3",
   "version": "3.10.8"
  }
 },
 "nbformat": 4,
 "nbformat_minor": 5
}
